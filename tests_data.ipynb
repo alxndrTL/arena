{
 "cells": [
  {
   "cell_type": "code",
   "execution_count": 1,
   "metadata": {},
   "outputs": [],
   "source": [
    "import numpy as np"
   ]
  },
  {
   "cell_type": "code",
   "execution_count": null,
   "metadata": {},
   "outputs": [],
   "source": [
    "def _peek_data_shard(filename):\n",
    "    # only reads the header, returns header data\n",
    "    with open(filename, \"rb\") as f:\n",
    "        # first read the header, which is 256 int32 integers (4 bytes each)\n",
    "        header = np.frombuffer(f.read(256*4), dtype=np.int32)\n",
    "    if header[0] != 20240801:\n",
    "        print(\"ERROR: magic number mismatch in the data .bin file!\")\n",
    "        exit(1)\n",
    "    assert header[1] == 7, \"unsupported version\"\n",
    "    ntok = header[2] # number of tokens (claimed)\n",
    "    return ntok # for now just return the number of tokens\n",
    "\n",
    "def _load_data_shard(filename):\n",
    "    with open(filename, \"rb\") as f:\n",
    "        # first read the header, which is 256 int32 integers (4 bytes each)\n",
    "        header = np.frombuffer(f.read(256*4), dtype=np.int32)\n",
    "        assert header[0] == 20240801, \"magic number mismatch in the data .bin file\"\n",
    "        assert header[1] == 7, \"unsupported version\"\n",
    "        ntok = header[2] # number of tokens (claimed)\n",
    "        # the rest of it are tokens, stored as uint16\n",
    "        tokens = np.frombuffer(f.read(), dtype=np.uint32)\n",
    "    assert len(tokens) == ntok, \"number of tokens read does not match header?\"\n",
    "    return tokens"
   ]
  },
  {
   "cell_type": "code",
   "execution_count": null,
   "metadata": {},
   "outputs": [],
   "source": []
  }
 ],
 "metadata": {
  "kernelspec": {
   "display_name": "torch23",
   "language": "python",
   "name": "python3"
  },
  "language_info": {
   "codemirror_mode": {
    "name": "ipython",
    "version": 3
   },
   "file_extension": ".py",
   "mimetype": "text/x-python",
   "name": "python",
   "nbconvert_exporter": "python",
   "pygments_lexer": "ipython3",
   "version": "3.12.2"
  }
 },
 "nbformat": 4,
 "nbformat_minor": 2
}
